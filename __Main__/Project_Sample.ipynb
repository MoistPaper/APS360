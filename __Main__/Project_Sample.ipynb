{
 "cells": [
  {
   "cell_type": "code",
   "execution_count": 1,
   "metadata": {
    "colab": {
     "base_uri": "https://localhost:8080/"
    },
    "id": "nnv33fL6oZKG",
    "outputId": "ae56b8f5-66cf-40b9-830c-ba727d171b3f"
   },
   "outputs": [
    {
     "name": "stdout",
     "output_type": "stream",
     "text": [
      "Downloading from https://www.kaggle.com/api/v1/datasets/download/andradaolteanu/gtzan-dataset-music-genre-classification?dataset_version_number=1...\n"
     ]
    },
    {
     "name": "stderr",
     "output_type": "stream",
     "text": [
      "100%|██████████| 1.21G/1.21G [00:23<00:00, 56.6MB/s]"
     ]
    },
    {
     "name": "stdout",
     "output_type": "stream",
     "text": [
      "Extracting files...\n"
     ]
    },
    {
     "name": "stderr",
     "output_type": "stream",
     "text": [
      "\n"
     ]
    },
    {
     "name": "stdout",
     "output_type": "stream",
     "text": [
      "Path to dataset files: /root/.cache/kagglehub/datasets/andradaolteanu/gtzan-dataset-music-genre-classification/versions/1\n"
     ]
    }
   ],
   "source": [
    "import kagglehub\n",
    "\n",
    "# Download latest version\n",
    "path = kagglehub.dataset_download(\"andradaolteanu/gtzan-dataset-music-genre-classification\")\n",
    "\n",
    "print(\"Path to dataset files:\", path)"
   ]
  },
  {
   "cell_type": "code",
   "execution_count": 11,
   "metadata": {
    "colab": {
     "base_uri": "https://localhost:8080/"
    },
    "id": "M2phtkE7oqw3",
    "outputId": "58518b5b-9435-4d44-d46b-1b9f8bbcc21e"
   },
   "outputs": [
    {
     "name": "stdout",
     "output_type": "stream",
     "text": [
      "['features_3_sec.csv', 'features_30_sec.csv', 'genres_original', 'images_original']\n",
      "GPU is not available\n"
     ]
    },
    {
     "data": {
      "text/plain": [
       "(9990, 60)"
      ]
     },
     "execution_count": 11,
     "metadata": {},
     "output_type": "execute_result"
    }
   ],
   "source": [
    "path = '/root/.cache/kagglehub/datasets/andradaolteanu/gtzan-dataset-music-genre-classification/versions/1/Data'\n",
    "import pandas as pd\n",
    "import numpy as np\n",
    "import matplotlib.pyplot as plt\n",
    "import torch\n",
    "import torch.nn as nn\n",
    "import torch.optim as optim\n",
    "from torch.optim import lr_scheduler\n",
    "import torchvision\n",
    "from torchvision import datasets, models, transforms\n",
    "import time\n",
    "import os\n",
    "import librosa\n",
    "import librosa.display\n",
    "import IPython.display as ipd\n",
    "\n",
    "print(os.listdir(path))\n",
    "\n",
    "if torch.cuda.is_available():\n",
    "    device_count = torch.cuda.device_count()\n",
    "    print(\"Number of available GPUs:\", device_count)\n",
    "    for i in range(device_count):\n",
    "        print(\"GPU\", i, \":\", torch.cuda.get_device_name(i))\n",
    "else:\n",
    "    print(\"GPU is not available\")\n",
    "\n",
    "test_data = pd.read_csv(path + '/features_3_sec.csv')\n",
    "test_data.head()"
   ]
  },
  {
   "cell_type": "code",
   "execution_count": null,
   "metadata": {
    "id": "lirY7MaHvWYI"
   },
   "outputs": [],
   "source": [
    "#Test audio files\n",
    "seed = 69\n",
    "torch.manual_seed(seed)\n",
    "np.random.seed(seed)\n",
    "audio_path = path + '/Data/genres_original/'\n",
    "classification_dict = {'blues': 0, 'classical': 1, 'country': 2, 'disco': 3, 'hiphop': 4, 'jazz': 5, 'metal': 6, 'pop': 7, 'reggae': 8, 'rock': 9}\n",
    "hop_length = 512\n",
    "for genre in classification_dict.keys():\n",
    "    print(genre)\n",
    "\n",
    "    # Reading the first audio file\n",
    "    data,sampling_rate = librosa.load(audio_path + genre + \"/\" + genre + \".00000.wav\")\n",
    "\n",
    "    display(IPython.display.Audio(data, rate = sampling_rate))"
   ]
  },
  {
   "cell_type": "code",
   "execution_count": null,
   "metadata": {},
   "outputs": [],
   "source": [
    "n_fft = 2048\n",
    "n_mels = 128\n",
    "output_genre_path = 'Mel_Spectrograms'\n",
    "for genre in classification_dict.keys():\n",
    "    if not os.path.exists(output_genre_path+\"/\"+genre):\n",
    "        os.makedirs(output_genre_path+\"/\"+genre)\n",
    "for genre in classification_dict.keys():\n",
    "    for filename in os.listdir(audio_path + genre):\n",
    "        if filename.endswith(\".wav\"):\n",
    "            data, sampling_rate = librosa.load(audio_path + genre + \"/\" + filename)\n",
    "            mel_spectrogram = librosa.feature.melspectrogram(y = data, sr = sampling_rate, n_fft = n_fft, hop_length = hop_length, n_mels = n_mels)\n",
    "            mel_spectrogram_db = librosa.power_to_db(mel_spectrogram, ref=np.max)\n",
    "\n",
    "            # Plot and save mel spectrogram\n",
    "            plt.figure(figsize=(10, 4))\n",
    "            librosa.display.specshow(mel_spectrogram_db, sr=sampling_rate, x_axis='time', y_axis='mel', fmax=8000)\n",
    "            plt.colorbar(format='%+2.0f dB')\n",
    "            plt.title(f'Mel Spectrogram - {genre} - {filename}')\n",
    "            plt.tight_layout()\n",
    "            plt.savefig(os.path.join(output_genre_path+\"/\"+genre, f'{os.path.splitext(filename)[0]}.png'))\n",
    "            plt.close()\n",
    "\n",
    "print(\"Mel spectrograms saved by genre.\")\n"
   ]
  }
 ],
 "metadata": {
  "colab": {
   "provenance": []
  },
  "kernelspec": {
   "display_name": "Python 3",
   "name": "python3"
  },
  "language_info": {
   "name": "python"
  }
 },
 "nbformat": 4,
 "nbformat_minor": 0
}
